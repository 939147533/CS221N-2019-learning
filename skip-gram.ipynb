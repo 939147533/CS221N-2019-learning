{
 "cells": [
  {
   "cell_type": "code",
   "execution_count": 4,
   "metadata": {},
   "outputs": [],
   "source": [
    "import numpy as np\n",
    "import string"
   ]
  },
  {
   "cell_type": "code",
   "execution_count": 7,
   "metadata": {},
   "outputs": [],
   "source": [
    "def softmax(x):\n",
    "    e_x = np.exp(x - np.max(x))\n",
    "    return e_x / e_x.sum(axis=0)\n",
    "\n",
    "class skip_gram(object):\n",
    "    def __init__(self):\n",
    "        self.N = 10\n",
    "        self.X_train = []\n",
    "        self.Y_train = []\n",
    "        self.window_size = 2\n",
    "        self.alpha = 0.001\n",
    "        self.words = []\n",
    "        self.word_index = {}\n",
    "        \n",
    "    def initialize(self,V, data, word_index):\n",
    "        self.V = V\n",
    "        self.W1 = np.random.uniform(-0.8, 0.8, (self.V, self.N))\n",
    "        self.W2 = np.random.uniform(-0.8, 0.8, (self.N, self.V))\n",
    "        self.words = data\n",
    "        self.word_index = word_index\n",
    "            \n",
    "    def feed_forward(self, X):\n",
    "        self.h = np.dot(self.W1.T, X).reshape(self.N, 1)\n",
    "        self.u = np.dot(self.W2.T, self.h)\n",
    "        self.y = softmax(self.u)\n",
    "        return self.y\n",
    "    \n",
    "    def backpropagate(self, x, truth):\n",
    "        EI = self.y - np.asarray(truth).reshape(self.V, 1)\n",
    "        grad_W2 = np.dot(self.h, EI.T)\n",
    "        X = np.array(x).reshape(self.V,1)\n",
    "        grad_W1 = np.dot(X, np.dot(self.W2, EI).T)\n",
    "        self.W2 = self.W2 - self.alpha*grad_W2\n",
    "        self.W1 = self.W1 - self.alpha*grad_W1\n",
    "        \n",
    "    def train(self, epochs):\n",
    "        for x in range(1, epochs):\n",
    "            self.loss = 0\n",
    "            for j in range(len(self.X_train)):\n",
    "                self.feed_forward(self.X_train[j])\n",
    "                self.backpropagate(self.X_train[j], self.Y_train[j])\n",
    "                C = 0\n",
    "                for m in range(self.V):\n",
    "                    if (self.Y_train[j][m]):\n",
    "                        self.loss  += -1*self.u[m][0]\n",
    "                        C += 1\n",
    "                self.loss += C*np.log(np.sum(np.exp(self.u)))\n",
    "            if x%100 ==0:\n",
    "                print(\"epoch:\", x, \"loss =\",self.loss)\n",
    "            self.alpha *= 1/(1+self.alpha*x)\n",
    "            \n",
    "    def predict(self, word, number_of_predictions):\n",
    "        if word in self.words:\n",
    "            index = self.word_index[word]\n",
    "            X = [0 for i in range(self.V)]\n",
    "            X[index] = 1\n",
    "            prediction = self.feed_forward(X)\n",
    "#             print(prediction)\n",
    "            output = {}\n",
    "            for i in range(self.V):\n",
    "                output[prediction[i][0]] = i\n",
    "            top_context_words = []\n",
    "            for k in sorted(output, reverse=True):\n",
    "                top_context_words.append(self.words[output[k]])\n",
    "                if (len(top_context_words)>=number_of_predictions):\n",
    "                    break\n",
    "            return top_context_words\n",
    "        else:\n",
    "            print(\"Word not found in dictionary\")\n",
    "    \n",
    "def preprocessing(corpus):\n",
    "    training_data = []\n",
    "    sentences = corpus.split('.')\n",
    "    for i in range(len(sentences)):\n",
    "        sentences[i] = sentences[i].strip()\n",
    "        sentence = sentences[i].split()\n",
    "        x = [word.strip(string.punctuation) for word in sentence]\n",
    "        x = [word.lower() for word in x]\n",
    "        training_data.append(x)\n",
    "    return training_data\n",
    "\n",
    "def prepare_data_for_train(sentences, w2v):\n",
    "    data = {}\n",
    "    for sentence in sentences:\n",
    "        for word in sentence:\n",
    "            #counter the number of times each word appears\n",
    "            if word not in data:\n",
    "                data[word] = 1\n",
    "            else:\n",
    "                data[word] += 1\n",
    "    V = len(data) # number of word(no repeatition)\n",
    "    data = sorted(list(data.keys()))# sord the dict by word name\n",
    "#     print(data) \n",
    "    # all words' index\n",
    "    word_index = {}\n",
    "    for i in range(len(data)):\n",
    "        word_index[data[i]] = i\n",
    "            \n",
    "    for sentence in sentences:\n",
    "        for i in range(len(sentence)):\n",
    "            center_word_vector = [0 for x in range(V)]\n",
    "            center_word_vector[word_index[sentence[i]]] = 1\n",
    "            \n",
    "            context_vector = [0 for x in range(V)]\n",
    "            for j in range(i-w2v.window_size, i+w2v.window_size):\n",
    "                if i!=j and j>=0 and j<len(sentence):\n",
    "                    context_vector[word_index[sentence[j]]] += 1\n",
    "\n",
    "            w2v.X_train.append(center_word_vector)\n",
    "            w2v.Y_train.append(context_vector) \n",
    "    w2v.initialize(V,data, word_index)\n",
    "\n",
    "    return w2v.X_train, w2v.Y_train"
   ]
  },
  {
   "cell_type": "code",
   "execution_count": 17,
   "metadata": {},
   "outputs": [
    {
     "name": "stdout",
     "output_type": "stream",
     "text": [
      "epoch: 100 loss = 53.70853911883946\n",
      "epoch: 200 loss = 53.1490172151716\n",
      "epoch: 300 loss = 52.956798492552544\n",
      "epoch: 400 loss = 52.860690743075125\n",
      "epoch: 500 loss = 52.80317680569317\n",
      "epoch: 600 loss = 52.764931992077365\n",
      "epoch: 700 loss = 52.73767315698624\n",
      "epoch: 800 loss = 52.717265415278916\n",
      "epoch: 900 loss = 52.701416113031655\n",
      "['the', 'around', 'earth', 'revolves']\n"
     ]
    }
   ],
   "source": [
    "corpus = \"The earth revolves around the sun. The moon revolves around the earth\"\n",
    "epochs = 1000\n",
    "training_data = preprocessing(corpus)\n",
    "w2v = skip_gram()\n",
    "prepare_data_for_train(training_data, w2v)\n",
    "w2v.train(epochs)\n",
    "print(w2v.predict('revolves',4))"
   ]
  },
  {
   "cell_type": "code",
   "execution_count": 11,
   "metadata": {
    "scrolled": true
   },
   "outputs": [
    {
     "name": "stdout",
     "output_type": "stream",
     "text": [
      "epoch: 100 loss = 40.55970966760545\n",
      "epoch: 200 loss = 40.1616897683346\n",
      "epoch: 300 loss = 40.021185696120504\n",
      "epoch: 400 loss = 39.95018228488393\n",
      "epoch: 500 loss = 39.90744737344812\n",
      "epoch: 600 loss = 39.87892786683252\n",
      "epoch: 700 loss = 39.8585505305099\n",
      "epoch: 800 loss = 39.84326726716397\n",
      "epoch: 900 loss = 39.83138152076275\n",
      "epoch: 1000 loss = 39.82187437890899\n",
      "epoch: 1100 loss = 39.81409712625049\n",
      "epoch: 1200 loss = 39.80761718771815\n",
      "epoch: 1300 loss = 39.80213506516579\n",
      "epoch: 1400 loss = 39.79743683366302\n",
      "epoch: 1500 loss = 39.79336562478859\n",
      "epoch: 1600 loss = 39.78980379820715\n",
      "epoch: 1700 loss = 39.78666140360757\n",
      "epoch: 1800 loss = 39.78386848799607\n",
      "epoch: 1900 loss = 39.78136983212742\n",
      "epoch: 2000 loss = 39.77912126606311\n",
      "epoch: 2100 loss = 39.777087037541925\n",
      "epoch: 2200 loss = 39.775237898188685\n",
      "epoch: 2300 loss = 39.77354968908049\n",
      "epoch: 2400 loss = 39.77200228001148\n",
      "epoch: 2500 loss = 39.77057876340658\n",
      "epoch: 2600 loss = 39.76926483431321\n",
      "epoch: 2700 loss = 39.76804830821802\n",
      "epoch: 2800 loss = 39.76691874222458\n",
      "epoch: 2900 loss = 39.765867134636494\n",
      "epoch: 3000 loss = 39.76488568464596\n",
      "epoch: 3100 loss = 39.76396759855214\n",
      "epoch: 3200 loss = 39.76310693232727\n",
      "epoch: 3300 loss = 39.76229846281862\n",
      "epoch: 3400 loss = 39.76153758168826\n",
      "epoch: 3500 loss = 39.76082020754184\n",
      "epoch: 3600 loss = 39.76014271270838\n",
      "epoch: 3700 loss = 39.759501861898386\n",
      "epoch: 3800 loss = 39.75889476055129\n",
      "epoch: 3900 loss = 39.7583188111327\n",
      "epoch: 4000 loss = 39.75777167598958\n",
      "epoch: 4100 loss = 39.757251245643396\n",
      "epoch: 4200 loss = 39.756755611614665\n",
      "epoch: 4300 loss = 39.75628304304088\n",
      "epoch: 4400 loss = 39.75583196648405\n",
      "epoch: 4500 loss = 39.755400948431834\n",
      "epoch: 4600 loss = 39.75498868008164\n",
      "epoch: 4700 loss = 39.754593964068306\n",
      "epoch: 4800 loss = 39.75421570285122\n",
      "epoch: 4900 loss = 39.75385288852398\n",
      "['beings', 'processes', 'are', 'inhabit']\n"
     ]
    }
   ],
   "source": [
    "corpus = \"Computational processes are abstract beings that inhabit computers.\"\n",
    "epochs = 5000\n",
    "training_data = preprocessing(corpus)\n",
    "w2v = skip_gram()\n",
    "prepare_data_for_train(training_data, w2v)\n",
    "w2v.train(epochs)\n",
    "print(w2v.predict('abstract',4))"
   ]
  },
  {
   "cell_type": "code",
   "execution_count": 16,
   "metadata": {},
   "outputs": [
    {
     "name": "stdout",
     "output_type": "stream",
     "text": [
      "['computers', 'abstract', 'that', 'beings']\n"
     ]
    }
   ],
   "source": [
    "print(w2v.predict('are',4))"
   ]
  },
  {
   "cell_type": "code",
   "execution_count": null,
   "metadata": {
    "collapsed": true
   },
   "outputs": [],
   "source": []
  }
 ],
 "metadata": {
  "kernelspec": {
   "display_name": "Python 3",
   "language": "python",
   "name": "python3"
  },
  "language_info": {
   "codemirror_mode": {
    "name": "ipython",
    "version": 3
   },
   "file_extension": ".py",
   "mimetype": "text/x-python",
   "name": "python",
   "nbconvert_exporter": "python",
   "pygments_lexer": "ipython3",
   "version": "3.6.7"
  }
 },
 "nbformat": 4,
 "nbformat_minor": 2
}
